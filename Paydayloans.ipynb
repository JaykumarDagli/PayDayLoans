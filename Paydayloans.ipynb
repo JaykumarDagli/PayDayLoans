{
 "cells": [
  {
   "cell_type": "markdown",
   "metadata": {},
   "source": [
    "## Importing libraries"
   ]
  },
  {
   "cell_type": "code",
   "execution_count": 1,
   "metadata": {},
   "outputs": [],
   "source": [
    "import numpy as np\n",
    "import pandas as pd\n",
    "\n",
    "import matplotlib.pyplot as plt\n",
    "import seaborn as sns\n",
    "%matplotlib inline\n",
    "\n",
    "from sklearn.model_selection import cross_val_score, train_test_split, GridSearchCV, RandomizedSearchCV\n",
    "from sklearn.metrics import accuracy_score, roc_auc_score, confusion_matrix, mean_squared_error\n",
    "\n",
    "from sklearn.preprocessing import StandardScaler\n",
    "from sklearn.preprocessing import MinMaxScaler\n",
    "\n",
    "from sklearn.linear_model import LogisticRegression\n",
    "from sklearn.tree import DecisionTreeClassifier\n",
    "from sklearn.ensemble import RandomForestClassifier, ExtraTreesClassifier"
   ]
  },
  {
   "cell_type": "markdown",
   "metadata": {},
   "source": [
    "## Reading file"
   ]
  },
  {
   "cell_type": "code",
   "execution_count": 2,
   "metadata": {},
   "outputs": [],
   "source": [
    "df=pd.read_csv('paydayloan_collections.csv')"
   ]
  },
  {
   "cell_type": "markdown",
   "metadata": {},
   "source": [
    "## Data exploration"
   ]
  },
  {
   "cell_type": "code",
   "execution_count": 3,
   "metadata": {},
   "outputs": [
    {
     "data": {
      "text/html": [
       "<div>\n",
       "<style scoped>\n",
       "    .dataframe tbody tr th:only-of-type {\n",
       "        vertical-align: middle;\n",
       "    }\n",
       "\n",
       "    .dataframe tbody tr th {\n",
       "        vertical-align: top;\n",
       "    }\n",
       "\n",
       "    .dataframe thead th {\n",
       "        text-align: right;\n",
       "    }\n",
       "</style>\n",
       "<table border=\"1\" class=\"dataframe\">\n",
       "  <thead>\n",
       "    <tr style=\"text-align: right;\">\n",
       "      <th></th>\n",
       "      <th>payment</th>\n",
       "      <th>var1</th>\n",
       "      <th>var2</th>\n",
       "      <th>var3</th>\n",
       "      <th>var4</th>\n",
       "      <th>var5</th>\n",
       "      <th>var6</th>\n",
       "      <th>var7</th>\n",
       "      <th>var8</th>\n",
       "      <th>var9</th>\n",
       "      <th>...</th>\n",
       "      <th>var21</th>\n",
       "      <th>var22</th>\n",
       "      <th>var23</th>\n",
       "      <th>var24</th>\n",
       "      <th>var25</th>\n",
       "      <th>var26</th>\n",
       "      <th>var27</th>\n",
       "      <th>var28</th>\n",
       "      <th>var29</th>\n",
       "      <th>var30</th>\n",
       "    </tr>\n",
       "  </thead>\n",
       "  <tbody>\n",
       "    <tr>\n",
       "      <th>0</th>\n",
       "      <td>Success</td>\n",
       "      <td>qw</td>\n",
       "      <td>hk</td>\n",
       "      <td>3.11</td>\n",
       "      <td>16.06</td>\n",
       "      <td>-4.60</td>\n",
       "      <td>22.34</td>\n",
       "      <td>13.53</td>\n",
       "      <td>1.53</td>\n",
       "      <td>nv</td>\n",
       "      <td>...</td>\n",
       "      <td>8.94</td>\n",
       "      <td>-12.76</td>\n",
       "      <td>ub</td>\n",
       "      <td>12.06</td>\n",
       "      <td>2.46</td>\n",
       "      <td>4.73</td>\n",
       "      <td>-1.72</td>\n",
       "      <td>0.91</td>\n",
       "      <td>ev</td>\n",
       "      <td>8.00</td>\n",
       "    </tr>\n",
       "    <tr>\n",
       "      <th>1</th>\n",
       "      <td>Denied</td>\n",
       "      <td>qw</td>\n",
       "      <td>rv</td>\n",
       "      <td>3.35</td>\n",
       "      <td>11.18</td>\n",
       "      <td>-18.55</td>\n",
       "      <td>6.68</td>\n",
       "      <td>12.78</td>\n",
       "      <td>6.62</td>\n",
       "      <td>nv</td>\n",
       "      <td>...</td>\n",
       "      <td>31.02</td>\n",
       "      <td>34.76</td>\n",
       "      <td>cz</td>\n",
       "      <td>1.44</td>\n",
       "      <td>9.44</td>\n",
       "      <td>13.56</td>\n",
       "      <td>-2.24</td>\n",
       "      <td>0.24</td>\n",
       "      <td>ev</td>\n",
       "      <td>-2.90</td>\n",
       "    </tr>\n",
       "    <tr>\n",
       "      <th>2</th>\n",
       "      <td>Denied</td>\n",
       "      <td>qw</td>\n",
       "      <td>zg</td>\n",
       "      <td>4.15</td>\n",
       "      <td>29.19</td>\n",
       "      <td>18.91</td>\n",
       "      <td>16.40</td>\n",
       "      <td>3.67</td>\n",
       "      <td>5.72</td>\n",
       "      <td>ch</td>\n",
       "      <td>...</td>\n",
       "      <td>23.26</td>\n",
       "      <td>9.50</td>\n",
       "      <td>ri</td>\n",
       "      <td>7.77</td>\n",
       "      <td>8.70</td>\n",
       "      <td>-1.75</td>\n",
       "      <td>5.96</td>\n",
       "      <td>1.91</td>\n",
       "      <td>ev</td>\n",
       "      <td>22.67</td>\n",
       "    </tr>\n",
       "    <tr>\n",
       "      <th>3</th>\n",
       "      <td>Success</td>\n",
       "      <td>wv</td>\n",
       "      <td>js</td>\n",
       "      <td>6.23</td>\n",
       "      <td>15.70</td>\n",
       "      <td>2.81</td>\n",
       "      <td>4.46</td>\n",
       "      <td>5.13</td>\n",
       "      <td>8.66</td>\n",
       "      <td>ja</td>\n",
       "      <td>...</td>\n",
       "      <td>29.25</td>\n",
       "      <td>-1.53</td>\n",
       "      <td>ri</td>\n",
       "      <td>8.94</td>\n",
       "      <td>19.33</td>\n",
       "      <td>23.73</td>\n",
       "      <td>5.54</td>\n",
       "      <td>0.85</td>\n",
       "      <td>ev</td>\n",
       "      <td>36.31</td>\n",
       "    </tr>\n",
       "    <tr>\n",
       "      <th>4</th>\n",
       "      <td>Success</td>\n",
       "      <td>ma</td>\n",
       "      <td>xn</td>\n",
       "      <td>1.28</td>\n",
       "      <td>20.71</td>\n",
       "      <td>14.98</td>\n",
       "      <td>11.19</td>\n",
       "      <td>17.66</td>\n",
       "      <td>1.13</td>\n",
       "      <td>nv</td>\n",
       "      <td>...</td>\n",
       "      <td>2.19</td>\n",
       "      <td>10.24</td>\n",
       "      <td>ub</td>\n",
       "      <td>8.92</td>\n",
       "      <td>5.48</td>\n",
       "      <td>-0.28</td>\n",
       "      <td>4.01</td>\n",
       "      <td>1.21</td>\n",
       "      <td>ev</td>\n",
       "      <td>11.33</td>\n",
       "    </tr>\n",
       "  </tbody>\n",
       "</table>\n",
       "<p>5 rows × 31 columns</p>\n",
       "</div>"
      ],
      "text/plain": [
       "   payment var1 var2  var3   var4   var5   var6   var7  var8 var9  ...  var21  \\\n",
       "0  Success   qw   hk  3.11  16.06  -4.60  22.34  13.53  1.53   nv  ...   8.94   \n",
       "1   Denied   qw   rv  3.35  11.18 -18.55   6.68  12.78  6.62   nv  ...  31.02   \n",
       "2   Denied   qw   zg  4.15  29.19  18.91  16.40   3.67  5.72   ch  ...  23.26   \n",
       "3  Success   wv   js  6.23  15.70   2.81   4.46   5.13  8.66   ja  ...  29.25   \n",
       "4  Success   ma   xn  1.28  20.71  14.98  11.19  17.66  1.13   nv  ...   2.19   \n",
       "\n",
       "   var22  var23  var24  var25  var26  var27 var28  var29  var30  \n",
       "0 -12.76     ub  12.06   2.46   4.73  -1.72  0.91     ev   8.00  \n",
       "1  34.76     cz   1.44   9.44  13.56  -2.24  0.24     ev  -2.90  \n",
       "2   9.50     ri   7.77   8.70  -1.75   5.96  1.91     ev  22.67  \n",
       "3  -1.53     ri   8.94  19.33  23.73   5.54  0.85     ev  36.31  \n",
       "4  10.24     ub   8.92   5.48  -0.28   4.01  1.21     ev  11.33  \n",
       "\n",
       "[5 rows x 31 columns]"
      ]
     },
     "execution_count": 3,
     "metadata": {},
     "output_type": "execute_result"
    }
   ],
   "source": [
    "df.head()"
   ]
  },
  {
   "cell_type": "code",
   "execution_count": 4,
   "metadata": {},
   "outputs": [
    {
     "data": {
      "text/plain": [
       "Index(['payment', 'var1', 'var2', 'var3', 'var4', 'var5', 'var6', 'var7',\n",
       "       'var8', 'var9', 'var10', 'var11', 'var12', 'var13', 'var14', 'var15',\n",
       "       'var16', 'var17', 'var18', 'var19', 'var20', 'var21', 'var22', 'var23',\n",
       "       'var24', 'var25', 'var26', 'var27', 'var28', 'var29', 'var30'],\n",
       "      dtype='object')"
      ]
     },
     "execution_count": 4,
     "metadata": {},
     "output_type": "execute_result"
    }
   ],
   "source": [
    "df.columns"
   ]
  },
  {
   "cell_type": "code",
   "execution_count": 5,
   "metadata": {},
   "outputs": [
    {
     "name": "stdout",
     "output_type": "stream",
     "text": [
      "<class 'pandas.core.frame.DataFrame'>\n",
      "RangeIndex: 30000 entries, 0 to 29999\n",
      "Data columns (total 31 columns):\n",
      " #   Column   Non-Null Count  Dtype  \n",
      "---  ------   --------------  -----  \n",
      " 0   payment  30000 non-null  object \n",
      " 1   var1     30000 non-null  object \n",
      " 2   var2     30000 non-null  object \n",
      " 3   var3     30000 non-null  float64\n",
      " 4   var4     30000 non-null  float64\n",
      " 5   var5     30000 non-null  float64\n",
      " 6   var6     30000 non-null  float64\n",
      " 7   var7     30000 non-null  float64\n",
      " 8   var8     30000 non-null  float64\n",
      " 9   var9     30000 non-null  object \n",
      " 10  var10    30000 non-null  object \n",
      " 11  var11    30000 non-null  object \n",
      " 12  var12    30000 non-null  float64\n",
      " 13  var13    30000 non-null  object \n",
      " 14  var14    30000 non-null  float64\n",
      " 15  var15    30000 non-null  float64\n",
      " 16  var16    30000 non-null  float64\n",
      " 17  var17    30000 non-null  object \n",
      " 18  var18    30000 non-null  float64\n",
      " 19  var19    30000 non-null  object \n",
      " 20  var20    30000 non-null  float64\n",
      " 21  var21    30000 non-null  float64\n",
      " 22  var22    30000 non-null  float64\n",
      " 23  var23    30000 non-null  object \n",
      " 24  var24    30000 non-null  float64\n",
      " 25  var25    30000 non-null  float64\n",
      " 26  var26    30000 non-null  float64\n",
      " 27  var27    30000 non-null  float64\n",
      " 28  var28    30000 non-null  float64\n",
      " 29  var29    30000 non-null  object \n",
      " 30  var30    30000 non-null  float64\n",
      "dtypes: float64(20), object(11)\n",
      "memory usage: 7.1+ MB\n"
     ]
    }
   ],
   "source": [
    "df.info()"
   ]
  },
  {
   "cell_type": "markdown",
   "metadata": {},
   "source": [
    "## Data cleaning"
   ]
  },
  {
   "cell_type": "code",
   "execution_count": 6,
   "metadata": {},
   "outputs": [
    {
     "data": {
      "text/plain": [
       "Denied     18755\n",
       "Success    11245\n",
       "Name: payment, dtype: int64"
      ]
     },
     "execution_count": 6,
     "metadata": {},
     "output_type": "execute_result"
    }
   ],
   "source": [
    "#checking response variable from the dataset\n",
    "df['payment'].value_counts()"
   ]
  },
  {
   "cell_type": "code",
   "execution_count": 7,
   "metadata": {},
   "outputs": [
    {
     "data": {
      "text/plain": [
       "Text(0.5, 1.0, 'Count of payment successful or not')"
      ]
     },
     "execution_count": 7,
     "metadata": {},
     "output_type": "execute_result"
    },
    {
     "data": {
      "image/png": "[encoded data removed]",
      "text/plain": [
       "<Figure size 432x288 with 1 Axes>"
      ]
     },
     "metadata": {
      "needs_background": "light"
     },
     "output_type": "display_data"
    }
   ],
   "source": [
    "#plot the count of response var\n",
    "sns.countplot(df['payment'])\n",
    "plt.title('Count of payment successful or not')"
   ]
  },
  {
   "cell_type": "code",
   "execution_count": 8,
   "metadata": {},
   "outputs": [],
   "source": [
    "#since 'payment' column is object type, we will need to convert it to numeric \n",
    "df['Y'] = np.where(df['payment']=='Success',1,0)\n",
    "df.drop(['payment'],1,inplace=True)"
   ]
  },
  {
   "cell_type": "code",
   "execution_count": 9,
   "metadata": {},
   "outputs": [
    {
     "data": {
      "text/plain": [
       "0    18755\n",
       "1    11245\n",
       "Name: Y, dtype: int64"
      ]
     },
     "execution_count": 9,
     "metadata": {},
     "output_type": "execute_result"
    }
   ],
   "source": [
    "#checking if conversion was correct\n",
    "df['Y'].value_counts()"
   ]
  },
  {
   "cell_type": "code",
   "execution_count": 10,
   "metadata": {},
   "outputs": [
    {
     "name": "stdout",
     "output_type": "stream",
     "text": [
      "var1\n",
      "var2\n",
      "var9\n",
      "var10\n",
      "var11\n",
      "var13\n",
      "var17\n",
      "var19\n",
      "var23\n",
      "var29\n"
     ]
    }
   ],
   "source": [
    "#var1, var2, var9, var10, var11, var13, var17, var19, var23, var29 are all categorical variables and can be converted to dummies\n",
    "cols = ['var1', 'var2', 'var9', 'var10', 'var11', 'var13', 'var17', 'var19', 'var23', 'var29']\n",
    "\n",
    "for col in cols:\n",
    "    dummy=pd.get_dummies(df[col],prefix=col,drop_first=True)\n",
    "    df=pd.concat([df,dummy],axis=1)\n",
    "    print(col)\n",
    "    del df[col]\n",
    "del dummy"
   ]
  },
  {
   "cell_type": "code",
   "execution_count": 11,
   "metadata": {},
   "outputs": [
    {
     "name": "stdout",
     "output_type": "stream",
     "text": [
      "<class 'pandas.core.frame.DataFrame'>\n",
      "RangeIndex: 30000 entries, 0 to 29999\n",
      "Data columns (total 63 columns):\n",
      " #   Column    Non-Null Count  Dtype  \n",
      "---  ------    --------------  -----  \n",
      " 0   var3      30000 non-null  float64\n",
      " 1   var4      30000 non-null  float64\n",
      " 2   var5      30000 non-null  float64\n",
      " 3   var6      30000 non-null  float64\n",
      " 4   var7      30000 non-null  float64\n",
      " 5   var8      30000 non-null  float64\n",
      " 6   var12     30000 non-null  float64\n",
      " 7   var14     30000 non-null  float64\n",
      " 8   var15     30000 non-null  float64\n",
      " 9   var16     30000 non-null  float64\n",
      " 10  var18     30000 non-null  float64\n",
      " 11  var20     30000 non-null  float64\n",
      " 12  var21     30000 non-null  float64\n",
      " 13  var22     30000 non-null  float64\n",
      " 14  var24     30000 non-null  float64\n",
      " 15  var25     30000 non-null  float64\n",
      " 16  var26     30000 non-null  float64\n",
      " 17  var27     30000 non-null  float64\n",
      " 18  var28     30000 non-null  float64\n",
      " 19  var30     30000 non-null  float64\n",
      " 20  Y         30000 non-null  int32  \n",
      " 21  var1_ma   30000 non-null  uint8  \n",
      " 22  var1_qw   30000 non-null  uint8  \n",
      " 23  var1_wv   30000 non-null  uint8  \n",
      " 24  var2_hk   30000 non-null  uint8  \n",
      " 25  var2_js   30000 non-null  uint8  \n",
      " 26  var2_lo   30000 non-null  uint8  \n",
      " 27  var2_py   30000 non-null  uint8  \n",
      " 28  var2_qf   30000 non-null  uint8  \n",
      " 29  var2_rv   30000 non-null  uint8  \n",
      " 30  var2_xn   30000 non-null  uint8  \n",
      " 31  var2_zg   30000 non-null  uint8  \n",
      " 32  var9_ja   30000 non-null  uint8  \n",
      " 33  var9_nv   30000 non-null  uint8  \n",
      " 34  var10_ld  30000 non-null  uint8  \n",
      " 35  var10_pe  30000 non-null  uint8  \n",
      " 36  var11_te  30000 non-null  uint8  \n",
      " 37  var13_iz  30000 non-null  uint8  \n",
      " 38  var13_kh  30000 non-null  uint8  \n",
      " 39  var13_np  30000 non-null  uint8  \n",
      " 40  var13_pf  30000 non-null  uint8  \n",
      " 41  var13_te  30000 non-null  uint8  \n",
      " 42  var13_xm  30000 non-null  uint8  \n",
      " 43  var17_bw  30000 non-null  uint8  \n",
      " 44  var17_ki  30000 non-null  uint8  \n",
      " 45  var17_ov  30000 non-null  uint8  \n",
      " 46  var17_zk  30000 non-null  uint8  \n",
      " 47  var19_ev  30000 non-null  uint8  \n",
      " 48  var19_fh  30000 non-null  uint8  \n",
      " 49  var19_hw  30000 non-null  uint8  \n",
      " 50  var19_me  30000 non-null  uint8  \n",
      " 51  var19_qu  30000 non-null  uint8  \n",
      " 52  var19_tg  30000 non-null  uint8  \n",
      " 53  var23_da  30000 non-null  uint8  \n",
      " 54  var23_fe  30000 non-null  uint8  \n",
      " 55  var23_po  30000 non-null  uint8  \n",
      " 56  var23_qu  30000 non-null  uint8  \n",
      " 57  var23_ri  30000 non-null  uint8  \n",
      " 58  var23_sy  30000 non-null  uint8  \n",
      " 59  var23_tf  30000 non-null  uint8  \n",
      " 60  var23_ub  30000 non-null  uint8  \n",
      " 61  var23_yv  30000 non-null  uint8  \n",
      " 62  var29_ev  30000 non-null  uint8  \n",
      "dtypes: float64(20), int32(1), uint8(42)\n",
      "memory usage: 5.9 MB\n"
     ]
    }
   ],
   "source": [
    "#making sure all cols are numeric \n",
    "df.info()"
   ]
  },
  {
   "cell_type": "markdown",
   "metadata": {},
   "source": [
    "## Modelling "
   ]
  },
  {
   "cell_type": "code",
   "execution_count": 12,
   "metadata": {},
   "outputs": [],
   "source": [
    "x=df.drop(['Y'],1)\n",
    "y=df['Y']\n",
    "\n",
    "x_train, x_test, y_train, y_test = train_test_split(x, y, test_size=0.2, random_state=42)"
   ]
  },
  {
   "cell_type": "code",
   "execution_count": 13,
   "metadata": {},
   "outputs": [],
   "source": [
    "sc = StandardScaler()\n",
    "x_train = sc.fit_transform(x_train)\n",
    "x_test = sc.transform(x_test)"
   ]
  },
  {
   "cell_type": "code",
   "execution_count": 14,
   "metadata": {},
   "outputs": [],
   "source": [
    "# nm = MinMaxScaler()\n",
    "# x_train = nm.fit_transform(x_train)\n",
    "# x_test = nm.transform(x_test)"
   ]
  },
  {
   "cell_type": "markdown",
   "metadata": {},
   "source": [
    "### Logistic Regression"
   ]
  },
  {
   "cell_type": "code",
   "execution_count": 15,
   "metadata": {},
   "outputs": [
    {
     "data": {
      "text/plain": [
       "0.86"
      ]
     },
     "execution_count": 15,
     "metadata": {},
     "output_type": "execute_result"
    }
   ],
   "source": [
    "logr=LogisticRegression()\n",
    "\n",
    "logr.fit(x_train, y_train)\n",
    "\n",
    "logr_pred=logr.predict(x_test)\n",
    "\n",
    "accuracy_score(y_test, logr_pred)"
   ]
  },
  {
   "cell_type": "markdown",
   "metadata": {},
   "source": [
    "### Decision Tree"
   ]
  },
  {
   "cell_type": "code",
   "execution_count": 16,
   "metadata": {},
   "outputs": [
    {
     "name": "stdout",
     "output_type": "stream",
     "text": [
      "0.7735\n",
      "Wall time: 2.05 s\n"
     ]
    }
   ],
   "source": [
    "%%time\n",
    "dtree = DecisionTreeClassifier()\n",
    "\n",
    "dtree.fit(x_train, y_train)\n",
    "\n",
    "dtree_pred=dtree.predict(x_test)\n",
    "\n",
    "accuracy_score(y_test, dtree_pred)"
   ]
  },
  {
   "cell_type": "markdown",
   "metadata": {},
   "source": [
    "### Random Forest"
   ]
  },
  {
   "cell_type": "code",
   "execution_count": 17,
   "metadata": {},
   "outputs": [
    {
     "name": "stdout",
     "output_type": "stream",
     "text": [
      "Wall time: 12.4 s\n"
     ]
    },
    {
     "data": {
      "text/plain": [
       "0.8585"
      ]
     },
     "execution_count": 17,
     "metadata": {},
     "output_type": "execute_result"
    }
   ],
   "source": [
    "%%time\n",
    "rf = RandomForestClassifier()\n",
    "\n",
    "rf.fit(x_train, y_train)\n",
    "\n",
    "rf_pred=rf.predict(x_test)\n",
    "\n",
    "accuracy_score(y_test, rf_pred)"
   ]
  },
  {
   "cell_type": "code",
   "execution_count": 18,
   "metadata": {},
   "outputs": [
    {
     "data": {
      "text/plain": [
       "array([2.43858562e-02, 2.51524621e-02, 2.52149554e-02, 2.44874935e-02,\n",
       "       3.42911101e-02, 2.56599233e-02, 2.43733460e-02, 2.50114040e-02,\n",
       "       2.51395138e-02, 4.75733164e-02, 2.57426024e-02, 2.49716572e-02,\n",
       "       2.50179956e-02, 2.49505362e-02, 2.51657662e-02, 3.16187359e-01,\n",
       "       2.52676091e-02, 2.50563130e-02, 2.40586582e-02, 2.50099563e-02,\n",
       "       1.40652281e-03, 3.67266173e-03, 3.49805523e-03, 2.95244230e-03,\n",
       "       2.75872826e-03, 2.13108155e-04, 3.43396803e-03, 8.88878146e-04,\n",
       "       2.33167677e-03, 1.43683988e-03, 1.82178159e-03, 2.01781234e-03,\n",
       "       3.75927284e-03, 3.75445843e-03, 2.13037231e-03, 3.11828432e-03,\n",
       "       2.87556960e-03, 2.54306826e-03, 1.27027945e-03, 2.09404365e-03,\n",
       "       3.51918603e-03, 7.65628338e-04, 4.33638511e-02, 1.60376781e-02,\n",
       "       3.07912646e-03, 7.47934990e-03, 3.76088388e-03, 1.26976366e-03,\n",
       "       5.70072110e-04, 2.63722145e-03, 3.29965588e-03, 2.89984310e-03,\n",
       "       1.69665481e-03, 2.12185378e-03, 3.67256491e-04, 2.68210657e-03,\n",
       "       2.67508014e-03, 1.09518544e-03, 3.12057705e-03, 1.87359533e-02,\n",
       "       1.87759232e-03, 6.24982172e-03])"
      ]
     },
     "execution_count": 18,
     "metadata": {},
     "output_type": "execute_result"
    }
   ],
   "source": [
    "rf.feature_importances_"
   ]
  },
  {
   "cell_type": "markdown",
   "metadata": {},
   "source": [
    "### Extra trees"
   ]
  },
  {
   "cell_type": "code",
   "execution_count": 19,
   "metadata": {},
   "outputs": [],
   "source": [
    "#read: https://www.thekerneltrip.com/statistics/random-forest-vs-extra-tree/#:~:text=The%20main%20difference%20between%20random,(for%20the%20extra%20trees)"
   ]
  },
  {
   "cell_type": "code",
   "execution_count": 20,
   "metadata": {},
   "outputs": [
    {
     "name": "stdout",
     "output_type": "stream",
     "text": [
      "Wall time: 7.87 s\n"
     ]
    },
    {
     "data": {
      "text/plain": [
       "0.816"
      ]
     },
     "execution_count": 20,
     "metadata": {},
     "output_type": "execute_result"
    }
   ],
   "source": [
    "%%time\n",
    "et=ExtraTreesClassifier()\n",
    "\n",
    "et.fit(x_train, y_train)\n",
    "\n",
    "et_pred=et.predict(x_test)\n",
    "\n",
    "accuracy_score(y_test, et_pred)"
   ]
  },
  {
   "cell_type": "code",
   "execution_count": 21,
   "metadata": {},
   "outputs": [],
   "source": [
    "# accuracy is less when ET is used but the time taken is also less"
   ]
  }
 ],
 "metadata": {
  "kernelspec": {
   "display_name": "Python 3",
   "language": "python",
   "name": "python3"
  },
  "language_info": {
   "codemirror_mode": {
    "name": "ipython",
    "version": 3
   },
   "file_extension": ".py",
   "mimetype": "text/x-python",
   "name": "python",
   "nbconvert_exporter": "python",
   "pygments_lexer": "ipython3",
   "version": "3.7.7"
  }
 },
 "nbformat": 4,
 "nbformat_minor": 4
}
